{
  "nbformat": 4,
  "nbformat_minor": 0,
  "metadata": {
    "colab": {
      "name": "Introdução ao R.ipynb",
      "provenance": [],
      "collapsed_sections": []
    },
    "kernelspec": {
      "name": "ir",
      "display_name": "R"
    },
    "language_info": {
      "name": "R"
    }
  },
  "cells": [
    {
      "cell_type": "markdown",
      "source": [
        "#Aula 1 - Introdução\n",
        "\n",
        "Autores: Fernanda Peron e João Pedro Leme\n",
        "\n",
        "A aula de hoje tem por objetivo apresentar alguns conceitos e comandos essenciais do R, como loops, as funções `for()` e `while()` e o básico de notação em RMarkdown.\n",
        "\n"
      ],
      "metadata": {
        "id": "8jo1Isk-gfTe"
      }
    },
    {
      "cell_type": "markdown",
      "source": [
        "##Instalando o R e o RStudio\n",
        "\n",
        "Primeiramente, acesse o site <https://www.r-project.org/> e instale o software no seu sistema operacional, seguindo as instruções da tela. Caso opte por selecionar um CRAN de preferência desde o início, vale dizer que a USP possui um CRAN próprio, que está indexado sob <https://vps.fmvz.usp.br/CRAN/>.\n",
        "\n",
        "Baixado o programa, seguiremos com a instalação do RStudio, que é o ambiente onde executaremos nossos códigos. Acesse <https://www.rstudio.com/>, vá para a aba \"Downloads\" e selecione a opção gratuita \"RStudio Desktop - Free\".\n",
        "\n",
        "Ao abrir a interface do RStudio, selecionar o botão com duas janelinhas no topo da seção do Console. Isso separará a parte esquerda da tela entre os ambientes de Terminal e Console.\n",
        "\n",
        "\n",
        "\n",
        "\n",
        "\n",
        "\n",
        "\n"
      ],
      "metadata": {
        "id": "Dt6yHMzgl8DD"
      }
    },
    {
      "cell_type": "markdown",
      "source": [
        "#Sintaxe básica\n",
        "\n",
        "Começaremos com os comandos mais básicos do programa, que são absolutamente essenciais para quaisquer construções e/ou trabalhos mais avançados.\n",
        "\n",
        "##Definição de objetos e variáveis\n",
        "\n",
        "Objetos e variáveis podem ser definidos com `<-` ou `=`.\n",
        "\n",
        "Suponha que você queira definir um objeto que represente o ano atual. Uma forma de fazer isso seria:\n",
        "\n",
        "`ano <- 2022`\n",
        "\n",
        "##Operações matemáticas\n",
        "\n",
        "\n",
        "1) Soma: `+`\n",
        "\n",
        "2) Subtração: `-`\n",
        "\n",
        "3) Multiplicação: `*`\n",
        "\n",
        "4) Divisão: `/`\n",
        "\n",
        "5) Exponenciação: `**`\n",
        "\n",
        "6) Exponencial: `exp()`\n",
        "\n",
        "7) Logaritmo natural: `log()`\n",
        "\n",
        "8) Logaritmo em base específica: `log(x, base = )`\n",
        "\n",
        "9) Modulo (ou divisibilidade): `%%`\n",
        "\n",
        "###Operações lógicas\n",
        "\n",
        "a) Igualdade estrita: `==`\n",
        "\n",
        "b) Diferença: `!=`\n",
        "\n",
        "c) Desigualdades: `>` ou `<` ou `=>` ou `<=`\n",
        "\n"
      ],
      "metadata": {
        "id": "XmObGW2Zg-Z5"
      }
    },
    {
      "cell_type": "markdown",
      "source": [
        "#Instalando pacotes\n",
        "\n",
        "Muito embora o R (e o RStudio) já venham configurados \"de fábrica\" com uma série de funções e artifícios úteis, muitas vezes precisaremos instalar pacotes específicos para ampliar nosso leque de ferramentas e facilitar a execução de nossas tarefas. \n",
        "\n",
        "Alguns exemplos famosos são o `ggplot2`, o `tidyverse`, o `readxl`, o `haven` e o `stargazer`. \n",
        "\n",
        "Para aqueles que quiserem treinar econometria básica com dataframes já separados e bem delimitados, o pacote `wooldridge` também é uma boa pedida.\n",
        "\n",
        "Outros pacotes podem acabar sendo úteis a depender de quais bases de dados vocês desejam manipular. A `survey` acrescenta um ferramental estatístico bastante poderoso e que pode ser de muita ajuda ao manipular dados da PNADc e POF. Além disso, existem pacotes específicos para os microdados dessas pesquisas amostrais."
      ],
      "metadata": {
        "id": "v4vskaaCtygu"
      }
    },
    {
      "cell_type": "code",
      "source": [
        "#Para instalar um pacote ainda não configurado em seu ambiente do RStudio, utilize a função install.packages no console ou no terminal.\n",
        "\n",
        "install.packages(\"tidyverse\")\n",
        "\n",
        "#Para explorar as capacidades do pacote (p. ex., funções específicas), é necessário \"informar\" o RStudio que desejamos fazer uso do mesmo, através da função library\n",
        "\n",
        "library(tidyverse)"
      ],
      "metadata": {
        "id": "aDgLGRJCvIML"
      },
      "execution_count": null,
      "outputs": []
    },
    {
      "cell_type": "markdown",
      "source": [
        "Note que, para a função `install.packages`, o nome do pacote deve estar entre aspas (já que o programa procura o nome do mesmo no repositório CRAN). Depois de instalado no RStudio, pode ser chamado pela função library usando somente seu próprio nome.\n"
      ],
      "metadata": {
        "id": "3CVOuJsovpwY"
      }
    },
    {
      "cell_type": "markdown",
      "source": [
        "#Diretório\n",
        "\n",
        "Para que possamos manipular arquivos e bases de dados no RStudio, precisamos primeiramente identificar qual o diretório que está sendo utilizado pelo programa, isto é, qual local de armazenamento do nosso computador em que o programa procura os arquivos especificados. \n",
        "\n",
        "Para checar, utilize a função `getwd()`, que pode ser rodada tanto no console quanto no terminal do RStudio. Caso deseje alterar o caminho indicado, basta selecionar a opção correspondente nas configurações de seu RStudio."
      ],
      "metadata": {
        "id": "aOCR7rd7xrCg"
      }
    },
    {
      "cell_type": "markdown",
      "source": [
        "#Loops\n",
        "Muitas vezes, quando trabalhamos com o R, queremos (ou precisamos!) realizar um mesmo processo repetidas vezes. Fazer duas ou três interações manualmente pode ser factível, mas se torna cada vez mais custoso e difícil a medida que aumentam as repetições. Para isso, existem funções no R, como `for()` e `while()`, que nos permitem automatizar esse processo e simplificar nosso trabalho."
      ],
      "metadata": {
        "id": "LgT-RV04hEPR"
      }
    },
    {
      "cell_type": "markdown",
      "source": [
        "##For\n",
        "\n",
        "Vamos supor que desejemos imprimir todos os números de 1 a 10. \n",
        "\n",
        "Uma primeira solução seria inputar cada dígito usando a função print. Vejamos:"
      ],
      "metadata": {
        "id": "3GaB1tNjk_fS"
      }
    },
    {
      "cell_type": "code",
      "source": [
        "#Exemplo 1: queremos imprimir todos os números de 1 a 10.\n",
        "#Estratégia 1: fazer isso manualmente\n",
        "print (1)\n",
        "print (2)\n",
        "#...\n",
        "print(10)\n",
        "\n"
      ],
      "metadata": {
        "id": "ThM_MIowhDo_"
      },
      "execution_count": null,
      "outputs": []
    },
    {
      "cell_type": "markdown",
      "source": [
        "Uma outra possível solução seria utilizar a função `for()` para criar um ciclo que se repete automaticamente até termos todos os 10 dígitos impressos.\n",
        "\n",
        "Aqui, existem 3 métodos possíveis: o primeiro exige que o programador crie um vetor com todos os números desejados e desenhe o ciclo. O segundo e o terceiro usam um indexador `i` para realizar o mesmo processo. A principal diferença entre os métodos é a conveniência para escrevê-los e a facilidade de se manipular cada elemento individualmente."
      ],
      "metadata": {
        "id": "kwxx9GG0wjBy"
      }
    },
    {
      "cell_type": "code",
      "source": [
        "#Estratégia 2: usar a função for()\n",
        "\n",
        "#Método 1 -> Sem indexador\n",
        "\n",
        "numeros <- c(1,2,3,4,5,6,7,8,9,10)\n",
        "\n",
        "for (numero in numeros){\n",
        "  print(numero)\n",
        "}\n",
        "\n",
        "#Método 2 -> Com indexador\n",
        "\n",
        "for(i in 1:length(numeros)) {\n",
        "  print(numeros[i])\n",
        "}\n",
        "\n",
        "#Método 3 -> Com indexador, sem necessidade de especificação de um vetor\n",
        "\n",
        "for(i in 1:10) {\n",
        "  print(i)\n",
        "}"
      ],
      "metadata": {
        "id": "2PkSA-E5k5Bv"
      },
      "execution_count": null,
      "outputs": []
    },
    {
      "cell_type": "markdown",
      "source": [
        "**Exercício 1**\n",
        "\n",
        "(a) Defina  o objeto `disciplinas` um vetor com as seguintes matérias obrigatórias do curso de Economia na FEA-USP: Macro, Micro, HEG, Cálculo, Econometria e Estatística.\n",
        "\n",
        "(b) Usando a função *for()*, printe os elementos da lista sem utilizar o índice `i`.\n",
        "\n",
        "(c) Realize o mesmo procedimento do item anterior, desta vez utilizando a técnica de indexação. (Dica: pode ser útil usar a função *length()*!).\n",
        "\n"
      ],
      "metadata": {
        "id": "XUdAOkOApCrl"
      }
    },
    {
      "cell_type": "code",
      "source": [
        "#Gabarito\n",
        "\n",
        "#(a)\n",
        "disciplinas <- c(\"Macro\", \"Micro\", \"HEG\", \"Cálculo\", \"Econometria\", \"Estatística\")\n",
        "\n",
        "#(b)\n",
        "for(materia in disciplinas) {\n",
        "  print(materia)\n",
        "}\n",
        "\n",
        "#(c)\n",
        "for(i in 1:length(disciplinas)) {\n",
        "  print(disciplinas[i])\n",
        "}"
      ],
      "metadata": {
        "id": "BsUCdKT4agUH"
      },
      "execution_count": null,
      "outputs": []
    },
    {
      "cell_type": "markdown",
      "source": [
        "**Exercício 2**\n",
        "\n",
        "Além de vetores comuns, é possível aplicar a função *for()* em outros objetos, como listas e matrizes. É importante notar, contudo, que existem algumas pequenas diferenças na forma de escrever o código para realizar as mesmas funções (por exemplo, no caso de listas, devem ser usados dois pares de colchetes para selecionar elementos indexados).\n",
        "\n",
        "Crie uma lista que contenha as informações sobre a cidade de São Paulo (variável `pop`, definida como o número de habitantes da cidade, um vetor com 5 bairros aleatórios e um teste para saber se é ou não a capital do Brasil):\n",
        "\n",
        "Usando os dois métodos vistos no exercício anterior, printe as informações contidas na lista."
      ],
      "metadata": {
        "id": "_-Jv_K98cK75"
      }
    },
    {
      "cell_type": "code",
      "source": [
        "#Gabarito\n",
        "\n",
        "sp <- list(pop = 12330000,\n",
        "           bairros = c(\"Butantã\", \"Sé\", \"Vila Guilherme\", \"Jardins\", \"Marsilac\"),\n",
        "           capital = FALSE)\n",
        "\n",
        "#Método 1\n",
        "\n",
        "for(info in sp) {\n",
        "  print(info)\n",
        "}\n",
        "\n",
        "#Método 2\n",
        "\n",
        "for(i in 1:length(sp)) {\n",
        "  print(sp[[i]])\n",
        "}"
      ],
      "metadata": {
        "id": "0Qtg1Qupd0Ag"
      },
      "execution_count": null,
      "outputs": []
    },
    {
      "cell_type": "markdown",
      "source": [
        "##While\n",
        "![r-while-loop.jpeg](data:image/jpeg;base64,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)"
      ],
      "metadata": {
        "id": "vtzijafzmhys"
      }
    },
    {
      "cell_type": "code",
      "source": [
        "#Definimos um objeto:\n",
        "i <- 1\n",
        "while (i < 10) {\n",
        "print(i)\n",
        "i = i + 1\n",
        "}"
      ],
      "metadata": {
        "id": "eeDfjq_Bmj9f"
      },
      "execution_count": null,
      "outputs": []
    },
    {
      "cell_type": "markdown",
      "source": [
        "**Exercício 1** \n",
        "\n",
        "**(a)** Defina a variável `Velocidade` com valor inicial de 64. \n",
        "\n",
        "**(b)** Monte uma estrutura usando a função *while()* que printe a frase \"*Cuidado! Desacelere*!\" enquanto `Velocidade` tiver valor superior a 30. \n",
        "\n",
        "**(c)** Crie uma expressão dentro da função *while()* que atribua à variável `Velocidade` um novo valor, que seja 7 unidades menor do que o anterior. Printe o valor final que quebra a condicional.\n",
        "\n",
        "**(d)** O que aconteceria se não fosse especificada uma função que eventualmente tornasse falsa a condição da função *while()*? "
      ],
      "metadata": {
        "id": "c7t3vy_pKBCH"
      }
    },
    {
      "cell_type": "code",
      "source": [
        "#Gabarito\n",
        "\n",
        "#(a)\n",
        "Velocidade <- 64\n",
        "\n",
        "#(b) e (c)\n",
        "while(Velocidade > 30){\n",
        "  print(\"Cuidado! Desacelere!\")\n",
        "  Velocidade <- Velocidade - 7\n",
        "}\n",
        "\n",
        "Velocidade\n",
        "\n",
        "#(d)\n",
        "#Se a condição especificada na função while() nunca fosse falseada, o ciclo continuaria ad infinitum (ou pelo menos até o console ser manualmente interrompido)."
      ],
      "metadata": {
        "id": "0AOegyCkPNu-"
      },
      "execution_count": null,
      "outputs": []
    },
    {
      "cell_type": "markdown",
      "source": [
        "**Exercício 2**\n",
        "\n",
        "Iremos agora testar um ciclo composto, usando as funções *while()* e *if()*.\n",
        "\n",
        "**(a)** Defina novamente a variável `Velocidade` e defina seu valor como 64. Usando a função while(), printe a frase \"Sua velocidade é [valor]\" para valores superiores a 30.\n",
        "\n",
        "**(b)** Usando a função *if()*, adicione uma seguinte nova condicionante ao ciclo inicial: para valores superiores a 48, printe a frase \"TÁ LOUCO? REDUZ AÍ!\" e atribua novo valor à variável `Velocidade`, inferior em 11 unidades. Usando o comando *else*, printe a frase \"Desacelere!\" e atribua novo valor à variável `Velocidade`, dessa vez reduzindo o número anterior em 6 unidades."
      ],
      "metadata": {
        "id": "VENvhXG7RdAM"
      }
    },
    {
      "cell_type": "code",
      "source": [
        "#Gabarito\n",
        "\n",
        "Velocidade <- 64\n",
        "\n",
        "while(Velocidade > 30){\n",
        "  print(paste(\"Sua velocidade é\", Velocidade))\n",
        "  if(Velocidade > 48){\n",
        "    print(\"TÁ LOUCO? REDUZ AÍ!\")\n",
        "    Velocidade <- Velocidade - 11\n",
        "  } else {\n",
        "    print(\"Desacelere!\")\n",
        "    Velocidade <- Velocidade - 6\n",
        "    }\n",
        "}\n",
        "\n"
      ],
      "metadata": {
        "id": "kndtvEuvTpki",
        "colab": {
          "base_uri": "https://localhost:8080/"
        },
        "outputId": "0e040a29-9a2b-4ea5-c2c9-bebfda7185eb"
      },
      "execution_count": null,
      "outputs": [
        {
          "output_type": "stream",
          "name": "stdout",
          "text": [
            "[1] \"Sua velocidade é 64\"\n",
            "[1] \"TÁ LOUCO? REDUZ AÍ!\"\n",
            "[1] \"Sua velocidade é 53\"\n",
            "[1] \"TÁ LOUCO? REDUZ AÍ!\"\n",
            "[1] \"Sua velocidade é 42\"\n",
            "[1] \"Desacelere!\"\n",
            "[1] \"Sua velocidade é 36\"\n",
            "[1] \"Desacelere!\"\n"
          ]
        }
      ]
    },
    {
      "cell_type": "markdown",
      "source": [
        "**Exercício 3**\n",
        "\n",
        "Uma outra forma de interromper o ciclo *while()* sem o falseamento da condicional é usar o comando ***break***.\n",
        "\n",
        "Usando o que aprendeu até agora, realize as seguintes etapas:\n",
        "\n",
        "**(i)** Crie uma variável `i` e determine seu valor inicial como 1.\n",
        "\n",
        "**(ii)** Usando a função *while()*, crie um ciclo que printe o triplo de `i` (3*i), para todo `i` menor ou igual a 10, incrementando seu valor em 1 unidade ao fim de cada ciclo.\n",
        "\n",
        "**(iii)** Usando a função *if()*, estabeleça a seguinte condição: caso o triplo de `i` seja divisível por 8, o console deve printar o valor final e encerrar o ciclo usando o comando ***break***."
      ],
      "metadata": {
        "id": "lT3YiROlVbx_"
      }
    },
    {
      "cell_type": "code",
      "source": [
        "#Gabarito\n",
        "\n",
        "i <- 1\n",
        "\n",
        "while(i <= 10){\n",
        "  print(3*i)\n",
        "  if(3*i %% 8 == 0){\n",
        "    print(3*i)\n",
        "    break\n",
        "  }\n",
        "  i <- i + 1 \n",
        "}"
      ],
      "metadata": {
        "id": "LO4-YreGWwbv",
        "colab": {
          "base_uri": "https://localhost:8080/"
        },
        "outputId": "f0aa7fa7-9c75-4c65-824f-4f79ba5a3323"
      },
      "execution_count": null,
      "outputs": [
        {
          "output_type": "stream",
          "name": "stdout",
          "text": [
            "[1] 3\n",
            "[1] 6\n",
            "[1] 9\n",
            "[1] 12\n",
            "[1] 15\n",
            "[1] 18\n",
            "[1] 21\n",
            "[1] 24\n",
            "[1] 24\n"
          ]
        }
      ]
    },
    {
      "cell_type": "markdown",
      "source": [
        "E se ao invés de parar o ciclo, eu quisesse que o programa apenas pulasse os triplos de `i` que fossem divisíveis por 8? \n",
        "\n",
        "Nesse caso, poderíamos usar o comando `next`, que funciona de forma similar ao `break` em termos sintáticos, mas não interrompe o ciclo como um todo."
      ],
      "metadata": {
        "id": "pM5vhULp4dLB"
      }
    },
    {
      "cell_type": "code",
      "source": [
        "#Usando o comando next\n",
        "\n",
        "for(i in 1:10){\n",
        "  if(3*i %% 8 == 0){\n",
        "    next\n",
        "  }\n",
        "  print(3*i)\n",
        "}"
      ],
      "metadata": {
        "id": "bHrwZCJb42s0",
        "colab": {
          "base_uri": "https://localhost:8080/"
        },
        "outputId": "6f2b7b74-2d60-48b2-dff0-5ef2f4f30195"
      },
      "execution_count": null,
      "outputs": [
        {
          "output_type": "stream",
          "name": "stdout",
          "text": [
            "[1] 3\n",
            "[1] 6\n",
            "[1] 9\n",
            "[1] 12\n",
            "[1] 15\n",
            "[1] 18\n",
            "[1] 21\n",
            "[1] 27\n",
            "[1] 30\n"
          ]
        }
      ]
    },
    {
      "cell_type": "markdown",
      "source": [
        "#RMarkdown\n",
        "\n",
        "É cada vez mais comum que autores e programadores disponibilizem para o público geral as rotinas de códigos que utilizaram para realizar suas pesquisas. Isso é uma vitória bastante significativa em termos de transparência, democratização do conhecimento e de replicabilidade de estudos.\n",
        "\n",
        "No entanto, apenas copiar e colar o código em um anexo qualquer é pouco informativo, já que muitas das escolhas feitas ao longo do código (como ordem, nome de variáveis etc.) só são conhecidas pelos programadores originais, o que tornaria a sua interpretação um trabalho bastante exaustivo de \"engenharia reversa\". \n",
        "\n",
        "Assim, convencionou-se criar documentos bem diagramados que expliquem o passo-a-passo seguido pelos programadores originais, chamados de Notebooks ou Markdowns. Para nossa sorte, o R já conta com um pacote que automaticamente gera esse tipo de documento, o chamado RMarkdown, que nos deixa com a faca e o queijo na mão!"
      ],
      "metadata": {
        "id": "AP6xfHyNzGCF"
      }
    },
    {
      "cell_type": "code",
      "source": [
        "#Para criar um documento em RMarkdown no RStudio, precisamos, primeiro, baixar o pacote adequado\n",
        "\n",
        "install.packages(\"rmarkdown\")"
      ],
      "metadata": {
        "id": "Ez4dcuSr0ix3"
      },
      "execution_count": null,
      "outputs": []
    },
    {
      "cell_type": "markdown",
      "source": [
        "Depois de instalado, basta fechar o RStudio e abri-lo novamente. Dessa vez, ao selecionar a aba \"File\" para criar um novo documento, você deverá selecionar a opção .Rmd (Markdown), ao invés do script normal.\n",
        "\n",
        "Uma nova tela será carregada e apresentará um template editável para a confecção de seu documento. De pronto podemos alterar o cabeçalho, inserindo o título de nosso trabalho, o nome dos autores e selecionando a forma de arquivo final (pdf ou html).\n",
        "\n",
        "O ambiente geral será dedicado a textos, sendo possível inserir formatações gráficas (como negritos, itálicos, strikethroughs, fontes diferentes para títulos e subtítulos) com poucos caracteres especiais (como no Whatsapp, por exemplo!). \n",
        "\n",
        "Para escrevermos códigos, precisamos abrir um \"chunk\", que funciona como um ambiente dedicado para isso, separando a programação do texto em si. Para abrir e fechar um chunk, basta usarmos \"````{r} e ```. Alternativamente, pode se utilizar o botão \"Insert Code Chunk\".\n",
        "\n",
        "Ao finalizar seu trabalho, basta clicar no botão \"Knit\" e esperar o download de seu arquivo!\n",
        "\n",
        "Para algumas dicas e macetes, vale acessar o site <https://rmarkdown.rstudio.com/> e abrir o \"Cheatsheet\"\"."
      ],
      "metadata": {
        "id": "v50I6KLD01c9"
      }
    }
  ]
}